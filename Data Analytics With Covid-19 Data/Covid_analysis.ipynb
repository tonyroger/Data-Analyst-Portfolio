{
 "cells": [
  {
   "attachments": {},
   "cell_type": "markdown",
   "metadata": {},
   "source": [
    "## Data Analysis of covid data.\n",
    "\n"
   ]
  },
  {
   "attachments": {},
   "cell_type": "markdown",
   "metadata": {},
   "source": [
    "## Retreiving the data\n",
    "\n",
    "### Importing all relavant libraries"
   ]
  },
  {
   "cell_type": "code",
   "execution_count": null,
   "metadata": {},
   "outputs": [],
   "source": [
    "# \n",
    "import pandas as pd\n",
    "import numpy as np\n",
    "import matplotlib.pyplot as plt\n",
    "import seaborn as sns\n",
    "from chart_studio import plotly\n",
    "import plotly.express as px\n",
    "#from plotly.offline import init_notebook_mode, iplot\n",
    "%matplotlib inline"
   ]
  },
  {
   "attachments": {},
   "cell_type": "markdown",
   "metadata": {},
   "source": [
    "## Access the data"
   ]
  },
  {
   "cell_type": "code",
   "execution_count": null,
   "metadata": {},
   "outputs": [],
   "source": [
    "covid_data = pd.read_csv('United_States_COVID-19_Cases_and_Deaths_by_State_over_Time.csv')"
   ]
  },
  {
   "cell_type": "code",
   "execution_count": null,
   "metadata": {},
   "outputs": [],
   "source": [
    "covid_data.head()"
   ]
  },
  {
   "cell_type": "code",
   "execution_count": null,
   "metadata": {},
   "outputs": [],
   "source": [
    "covid_data[\"submission_date\"]= pd.to_datetime(covid_data[\"submission_date\"], format=\"%m/%d/%Y\") #\n",
    "covid_data.sort_values(by=['submission_date'], inplace=False)"
   ]
  },
  {
   "cell_type": "code",
   "execution_count": 5,
   "metadata": {},
   "outputs": [
    {
     "data": {
      "text/plain": [
       "0"
      ]
     },
     "execution_count": 5,
     "metadata": {},
     "output_type": "execute_result"
    }
   ],
   "source": [
    "# check for duplicates\n",
    "covid_data.duplicated().sum()"
   ]
  },
  {
   "cell_type": "code",
   "execution_count": 6,
   "metadata": {},
   "outputs": [
    {
     "name": "stdout",
     "output_type": "stream",
     "text": [
      "<class 'pandas.core.frame.DataFrame'>\n",
      "RangeIndex: 43980 entries, 0 to 43979\n",
      "Data columns (total 15 columns):\n",
      " #   Column           Non-Null Count  Dtype         \n",
      "---  ------           --------------  -----         \n",
      " 0   submission_date  43980 non-null  datetime64[ns]\n",
      " 1   state            43980 non-null  object        \n",
      " 2   tot_cases        43980 non-null  int64         \n",
      " 3   conf_cases       23772 non-null  float64       \n",
      " 4   prob_cases       23700 non-null  float64       \n",
      " 5   new_case         43980 non-null  int64         \n",
      " 6   pnew_case        40108 non-null  float64       \n",
      " 7   tot_death        43980 non-null  int64         \n",
      " 8   conf_death       23500 non-null  float64       \n",
      " 9   prob_death       23500 non-null  float64       \n",
      " 10  new_death        43980 non-null  int64         \n",
      " 11  pnew_death       40005 non-null  float64       \n",
      " 12  created_at       43980 non-null  object        \n",
      " 13  consent_cases    36645 non-null  object        \n",
      " 14  consent_deaths   37383 non-null  object        \n",
      "dtypes: datetime64[ns](1), float64(6), int64(4), object(4)\n",
      "memory usage: 5.0+ MB\n"
     ]
    }
   ],
   "source": [
    "# data types in covid dataset\n",
    "covid_data.info()"
   ]
  },
  {
   "cell_type": "code",
   "execution_count": 7,
   "metadata": {},
   "outputs": [
    {
     "data": {
      "text/plain": [
       "submission_date      733\n",
       "state                 60\n",
       "tot_cases          33404\n",
       "conf_cases         20182\n",
       "prob_cases         14157\n",
       "new_case            6999\n",
       "pnew_case           2703\n",
       "tot_death          14950\n",
       "conf_death         11314\n",
       "prob_death          3336\n",
       "new_death            489\n",
       "pnew_death           293\n",
       "created_at          1678\n",
       "consent_cases          2\n",
       "consent_deaths         2\n",
       "dtype: int64"
      ]
     },
     "execution_count": 7,
     "metadata": {},
     "output_type": "execute_result"
    }
   ],
   "source": [
    "covid_data.nunique()"
   ]
  },
  {
   "cell_type": "code",
   "execution_count": 8,
   "metadata": {},
   "outputs": [
    {
     "data": {
      "text/plain": [
       "submission_date        0\n",
       "state                  0\n",
       "tot_cases              0\n",
       "conf_cases         20208\n",
       "prob_cases         20280\n",
       "new_case               0\n",
       "pnew_case           3872\n",
       "tot_death              0\n",
       "conf_death         20480\n",
       "prob_death         20480\n",
       "new_death              0\n",
       "pnew_death          3975\n",
       "created_at             0\n",
       "consent_cases       7335\n",
       "consent_deaths      6597\n",
       "dtype: int64"
      ]
     },
     "execution_count": 8,
     "metadata": {},
     "output_type": "execute_result"
    }
   ],
   "source": [
    "# check for null values\n",
    "covid_data.isnull().sum()"
   ]
  },
  {
   "cell_type": "code",
   "execution_count": null,
   "metadata": {},
   "outputs": [],
   "source": [
    "clean_data=covid_data.drop('conf_cases', 'prob_cases','conf_death','prob_death')"
   ]
  },
  {
   "cell_type": "code",
   "execution_count": null,
   "metadata": {},
   "outputs": [],
   "source": [
    "clean_data.isnull().sum()"
   ]
  },
  {
   "cell_type": "code",
   "execution_count": 11,
   "metadata": {},
   "outputs": [
    {
     "data": {
      "text/html": [
       "<div>\n",
       "<style scoped>\n",
       "    .dataframe tbody tr th:only-of-type {\n",
       "        vertical-align: middle;\n",
       "    }\n",
       "\n",
       "    .dataframe tbody tr th {\n",
       "        vertical-align: top;\n",
       "    }\n",
       "\n",
       "    .dataframe thead th {\n",
       "        text-align: right;\n",
       "    }\n",
       "</style>\n",
       "<table border=\"1\" class=\"dataframe\">\n",
       "  <thead>\n",
       "    <tr style=\"text-align: right;\">\n",
       "      <th></th>\n",
       "      <th>tot_cases</th>\n",
       "      <th>conf_cases</th>\n",
       "      <th>prob_cases</th>\n",
       "      <th>new_case</th>\n",
       "      <th>pnew_case</th>\n",
       "      <th>tot_death</th>\n",
       "      <th>conf_death</th>\n",
       "      <th>prob_death</th>\n",
       "      <th>new_death</th>\n",
       "      <th>pnew_death</th>\n",
       "    </tr>\n",
       "  </thead>\n",
       "  <tbody>\n",
       "    <tr>\n",
       "      <th>count</th>\n",
       "      <td>1.954400e+04</td>\n",
       "      <td>1.954400e+04</td>\n",
       "      <td>19544.000000</td>\n",
       "      <td>19544.000000</td>\n",
       "      <td>19544.000000</td>\n",
       "      <td>19544.000000</td>\n",
       "      <td>19544.000000</td>\n",
       "      <td>19544.000000</td>\n",
       "      <td>19544.000000</td>\n",
       "      <td>19544.000000</td>\n",
       "    </tr>\n",
       "    <tr>\n",
       "      <th>mean</th>\n",
       "      <td>4.514011e+05</td>\n",
       "      <td>3.984165e+05</td>\n",
       "      <td>52984.695252</td>\n",
       "      <td>1881.909537</td>\n",
       "      <td>278.234804</td>\n",
       "      <td>8234.174222</td>\n",
       "      <td>7403.698322</td>\n",
       "      <td>830.475901</td>\n",
       "      <td>22.808432</td>\n",
       "      <td>2.495242</td>\n",
       "    </tr>\n",
       "    <tr>\n",
       "      <th>std</th>\n",
       "      <td>6.233063e+05</td>\n",
       "      <td>5.799747e+05</td>\n",
       "      <td>80704.623364</td>\n",
       "      <td>4372.388595</td>\n",
       "      <td>768.688938</td>\n",
       "      <td>10727.358708</td>\n",
       "      <td>10033.653133</td>\n",
       "      <td>1232.655658</td>\n",
       "      <td>50.925376</td>\n",
       "      <td>28.300449</td>\n",
       "    </tr>\n",
       "    <tr>\n",
       "      <th>min</th>\n",
       "      <td>0.000000e+00</td>\n",
       "      <td>0.000000e+00</td>\n",
       "      <td>0.000000</td>\n",
       "      <td>-4803.000000</td>\n",
       "      <td>-6259.000000</td>\n",
       "      <td>0.000000</td>\n",
       "      <td>0.000000</td>\n",
       "      <td>0.000000</td>\n",
       "      <td>-352.000000</td>\n",
       "      <td>-2594.000000</td>\n",
       "    </tr>\n",
       "    <tr>\n",
       "      <th>25%</th>\n",
       "      <td>3.835375e+04</td>\n",
       "      <td>3.539175e+04</td>\n",
       "      <td>14.000000</td>\n",
       "      <td>130.000000</td>\n",
       "      <td>0.000000</td>\n",
       "      <td>729.000000</td>\n",
       "      <td>704.750000</td>\n",
       "      <td>0.000000</td>\n",
       "      <td>0.000000</td>\n",
       "      <td>0.000000</td>\n",
       "    </tr>\n",
       "    <tr>\n",
       "      <th>50%</th>\n",
       "      <td>2.057045e+05</td>\n",
       "      <td>1.859320e+05</td>\n",
       "      <td>9879.000000</td>\n",
       "      <td>634.000000</td>\n",
       "      <td>39.000000</td>\n",
       "      <td>3718.000000</td>\n",
       "      <td>3387.500000</td>\n",
       "      <td>210.000000</td>\n",
       "      <td>7.000000</td>\n",
       "      <td>0.000000</td>\n",
       "    </tr>\n",
       "    <tr>\n",
       "      <th>75%</th>\n",
       "      <td>6.813345e+05</td>\n",
       "      <td>5.951112e+05</td>\n",
       "      <td>80151.500000</td>\n",
       "      <td>1905.000000</td>\n",
       "      <td>242.250000</td>\n",
       "      <td>11695.000000</td>\n",
       "      <td>10044.250000</td>\n",
       "      <td>1256.000000</td>\n",
       "      <td>24.000000</td>\n",
       "      <td>2.000000</td>\n",
       "    </tr>\n",
       "    <tr>\n",
       "      <th>max</th>\n",
       "      <td>4.885289e+06</td>\n",
       "      <td>4.640489e+06</td>\n",
       "      <td>550048.000000</td>\n",
       "      <td>125572.000000</td>\n",
       "      <td>16929.000000</td>\n",
       "      <td>71408.000000</td>\n",
       "      <td>71408.000000</td>\n",
       "      <td>5423.000000</td>\n",
       "      <td>1178.000000</td>\n",
       "      <td>1021.000000</td>\n",
       "    </tr>\n",
       "  </tbody>\n",
       "</table>\n",
       "</div>"
      ],
      "text/plain": [
       "          tot_cases    conf_cases     prob_cases       new_case     pnew_case  \\\n",
       "count  1.954400e+04  1.954400e+04   19544.000000   19544.000000  19544.000000   \n",
       "mean   4.514011e+05  3.984165e+05   52984.695252    1881.909537    278.234804   \n",
       "std    6.233063e+05  5.799747e+05   80704.623364    4372.388595    768.688938   \n",
       "min    0.000000e+00  0.000000e+00       0.000000   -4803.000000  -6259.000000   \n",
       "25%    3.835375e+04  3.539175e+04      14.000000     130.000000      0.000000   \n",
       "50%    2.057045e+05  1.859320e+05    9879.000000     634.000000     39.000000   \n",
       "75%    6.813345e+05  5.951112e+05   80151.500000    1905.000000    242.250000   \n",
       "max    4.885289e+06  4.640489e+06  550048.000000  125572.000000  16929.000000   \n",
       "\n",
       "          tot_death    conf_death    prob_death     new_death    pnew_death  \n",
       "count  19544.000000  19544.000000  19544.000000  19544.000000  19544.000000  \n",
       "mean    8234.174222   7403.698322    830.475901     22.808432      2.495242  \n",
       "std    10727.358708  10033.653133   1232.655658     50.925376     28.300449  \n",
       "min        0.000000      0.000000      0.000000   -352.000000  -2594.000000  \n",
       "25%      729.000000    704.750000      0.000000      0.000000      0.000000  \n",
       "50%     3718.000000   3387.500000    210.000000      7.000000      0.000000  \n",
       "75%    11695.000000  10044.250000   1256.000000     24.000000      2.000000  \n",
       "max    71408.000000  71408.000000   5423.000000   1178.000000   1021.000000  "
      ]
     },
     "execution_count": 11,
     "metadata": {},
     "output_type": "execute_result"
    }
   ],
   "source": [
    "clean_data.describe()"
   ]
  },
  {
   "cell_type": "code",
   "execution_count": 12,
   "metadata": {},
   "outputs": [
    {
     "data": {
      "text/html": [
       "<div>\n",
       "<style scoped>\n",
       "    .dataframe tbody tr th:only-of-type {\n",
       "        vertical-align: middle;\n",
       "    }\n",
       "\n",
       "    .dataframe tbody tr th {\n",
       "        vertical-align: top;\n",
       "    }\n",
       "\n",
       "    .dataframe thead th {\n",
       "        text-align: right;\n",
       "    }\n",
       "</style>\n",
       "<table border=\"1\" class=\"dataframe\">\n",
       "  <thead>\n",
       "    <tr style=\"text-align: right;\">\n",
       "      <th></th>\n",
       "      <th>submission_date</th>\n",
       "      <th>state</th>\n",
       "      <th>tot_cases</th>\n",
       "      <th>conf_cases</th>\n",
       "      <th>prob_cases</th>\n",
       "      <th>new_case</th>\n",
       "      <th>pnew_case</th>\n",
       "      <th>tot_death</th>\n",
       "      <th>conf_death</th>\n",
       "      <th>prob_death</th>\n",
       "      <th>new_death</th>\n",
       "      <th>pnew_death</th>\n",
       "      <th>created_at</th>\n",
       "      <th>consent_cases</th>\n",
       "      <th>consent_deaths</th>\n",
       "    </tr>\n",
       "  </thead>\n",
       "  <tbody>\n",
       "    <tr>\n",
       "      <th>30418</th>\n",
       "      <td>2021-10-28</td>\n",
       "      <td>CA</td>\n",
       "      <td>4885289</td>\n",
       "      <td>4640489.0</td>\n",
       "      <td>244800.0</td>\n",
       "      <td>8770</td>\n",
       "      <td>3821.0</td>\n",
       "      <td>71408</td>\n",
       "      <td>71408.0</td>\n",
       "      <td>0.0</td>\n",
       "      <td>113</td>\n",
       "      <td>0.0</td>\n",
       "      <td>10/30/2021 12:00:00 AM</td>\n",
       "      <td>Agree</td>\n",
       "      <td>Agree</td>\n",
       "    </tr>\n",
       "    <tr>\n",
       "      <th>12325</th>\n",
       "      <td>2021-10-27</td>\n",
       "      <td>CA</td>\n",
       "      <td>4855054</td>\n",
       "      <td>4635540.0</td>\n",
       "      <td>219514.0</td>\n",
       "      <td>4378</td>\n",
       "      <td>0.0</td>\n",
       "      <td>71295</td>\n",
       "      <td>71295.0</td>\n",
       "      <td>0.0</td>\n",
       "      <td>113</td>\n",
       "      <td>0.0</td>\n",
       "      <td>10/29/2021 12:00:00 AM</td>\n",
       "      <td>Agree</td>\n",
       "      <td>Agree</td>\n",
       "    </tr>\n",
       "    <tr>\n",
       "      <th>26503</th>\n",
       "      <td>2021-10-26</td>\n",
       "      <td>CA</td>\n",
       "      <td>4850676</td>\n",
       "      <td>4631162.0</td>\n",
       "      <td>219514.0</td>\n",
       "      <td>24563</td>\n",
       "      <td>0.0</td>\n",
       "      <td>71182</td>\n",
       "      <td>71182.0</td>\n",
       "      <td>0.0</td>\n",
       "      <td>298</td>\n",
       "      <td>0.0</td>\n",
       "      <td>10/28/2021 12:00:00 AM</td>\n",
       "      <td>Agree</td>\n",
       "      <td>Agree</td>\n",
       "    </tr>\n",
       "    <tr>\n",
       "      <th>11200</th>\n",
       "      <td>2021-10-25</td>\n",
       "      <td>CA</td>\n",
       "      <td>4826113</td>\n",
       "      <td>4606599.0</td>\n",
       "      <td>219514.0</td>\n",
       "      <td>0</td>\n",
       "      <td>0.0</td>\n",
       "      <td>70884</td>\n",
       "      <td>70884.0</td>\n",
       "      <td>0.0</td>\n",
       "      <td>0</td>\n",
       "      <td>0.0</td>\n",
       "      <td>10/27/2021 12:00:00 AM</td>\n",
       "      <td>Agree</td>\n",
       "      <td>Agree</td>\n",
       "    </tr>\n",
       "    <tr>\n",
       "      <th>12386</th>\n",
       "      <td>2021-10-23</td>\n",
       "      <td>CA</td>\n",
       "      <td>4826113</td>\n",
       "      <td>4606599.0</td>\n",
       "      <td>219514.0</td>\n",
       "      <td>0</td>\n",
       "      <td>0.0</td>\n",
       "      <td>70884</td>\n",
       "      <td>70884.0</td>\n",
       "      <td>0.0</td>\n",
       "      <td>0</td>\n",
       "      <td>0.0</td>\n",
       "      <td>10/25/2021 12:00:00 AM</td>\n",
       "      <td>Agree</td>\n",
       "      <td>Agree</td>\n",
       "    </tr>\n",
       "    <tr>\n",
       "      <th>25856</th>\n",
       "      <td>2021-10-24</td>\n",
       "      <td>CA</td>\n",
       "      <td>4826113</td>\n",
       "      <td>4606599.0</td>\n",
       "      <td>219514.0</td>\n",
       "      <td>0</td>\n",
       "      <td>0.0</td>\n",
       "      <td>70884</td>\n",
       "      <td>70884.0</td>\n",
       "      <td>0.0</td>\n",
       "      <td>0</td>\n",
       "      <td>0.0</td>\n",
       "      <td>10/26/2021 12:00:00 AM</td>\n",
       "      <td>Agree</td>\n",
       "      <td>Agree</td>\n",
       "    </tr>\n",
       "    <tr>\n",
       "      <th>26319</th>\n",
       "      <td>2021-10-22</td>\n",
       "      <td>CA</td>\n",
       "      <td>4826113</td>\n",
       "      <td>4606599.0</td>\n",
       "      <td>219514.0</td>\n",
       "      <td>6093</td>\n",
       "      <td>0.0</td>\n",
       "      <td>70884</td>\n",
       "      <td>70884.0</td>\n",
       "      <td>0.0</td>\n",
       "      <td>143</td>\n",
       "      <td>0.0</td>\n",
       "      <td>10/24/2021 12:00:00 AM</td>\n",
       "      <td>Agree</td>\n",
       "      <td>Agree</td>\n",
       "    </tr>\n",
       "    <tr>\n",
       "      <th>15616</th>\n",
       "      <td>2021-10-21</td>\n",
       "      <td>CA</td>\n",
       "      <td>4820020</td>\n",
       "      <td>4600506.0</td>\n",
       "      <td>219514.0</td>\n",
       "      <td>8407</td>\n",
       "      <td>3283.0</td>\n",
       "      <td>70741</td>\n",
       "      <td>70741.0</td>\n",
       "      <td>0.0</td>\n",
       "      <td>148</td>\n",
       "      <td>0.0</td>\n",
       "      <td>10/23/2021 12:00:00 AM</td>\n",
       "      <td>Agree</td>\n",
       "      <td>Agree</td>\n",
       "    </tr>\n",
       "    <tr>\n",
       "      <th>14467</th>\n",
       "      <td>2021-10-20</td>\n",
       "      <td>CA</td>\n",
       "      <td>4811613</td>\n",
       "      <td>4595382.0</td>\n",
       "      <td>216231.0</td>\n",
       "      <td>3070</td>\n",
       "      <td>0.0</td>\n",
       "      <td>70593</td>\n",
       "      <td>70593.0</td>\n",
       "      <td>0.0</td>\n",
       "      <td>156</td>\n",
       "      <td>0.0</td>\n",
       "      <td>10/22/2021 12:00:00 AM</td>\n",
       "      <td>Agree</td>\n",
       "      <td>Agree</td>\n",
       "    </tr>\n",
       "    <tr>\n",
       "      <th>11223</th>\n",
       "      <td>2021-10-19</td>\n",
       "      <td>CA</td>\n",
       "      <td>4808543</td>\n",
       "      <td>4592312.0</td>\n",
       "      <td>216231.0</td>\n",
       "      <td>4081</td>\n",
       "      <td>0.0</td>\n",
       "      <td>70437</td>\n",
       "      <td>70437.0</td>\n",
       "      <td>0.0</td>\n",
       "      <td>21</td>\n",
       "      <td>0.0</td>\n",
       "      <td>10/21/2021 12:00:00 AM</td>\n",
       "      <td>Agree</td>\n",
       "      <td>Agree</td>\n",
       "    </tr>\n",
       "  </tbody>\n",
       "</table>\n",
       "</div>"
      ],
      "text/plain": [
       "      submission_date state  tot_cases  conf_cases  prob_cases  new_case  \\\n",
       "30418      2021-10-28    CA    4885289   4640489.0    244800.0      8770   \n",
       "12325      2021-10-27    CA    4855054   4635540.0    219514.0      4378   \n",
       "26503      2021-10-26    CA    4850676   4631162.0    219514.0     24563   \n",
       "11200      2021-10-25    CA    4826113   4606599.0    219514.0         0   \n",
       "12386      2021-10-23    CA    4826113   4606599.0    219514.0         0   \n",
       "25856      2021-10-24    CA    4826113   4606599.0    219514.0         0   \n",
       "26319      2021-10-22    CA    4826113   4606599.0    219514.0      6093   \n",
       "15616      2021-10-21    CA    4820020   4600506.0    219514.0      8407   \n",
       "14467      2021-10-20    CA    4811613   4595382.0    216231.0      3070   \n",
       "11223      2021-10-19    CA    4808543   4592312.0    216231.0      4081   \n",
       "\n",
       "       pnew_case  tot_death  conf_death  prob_death  new_death  pnew_death  \\\n",
       "30418     3821.0      71408     71408.0         0.0        113         0.0   \n",
       "12325        0.0      71295     71295.0         0.0        113         0.0   \n",
       "26503        0.0      71182     71182.0         0.0        298         0.0   \n",
       "11200        0.0      70884     70884.0         0.0          0         0.0   \n",
       "12386        0.0      70884     70884.0         0.0          0         0.0   \n",
       "25856        0.0      70884     70884.0         0.0          0         0.0   \n",
       "26319        0.0      70884     70884.0         0.0        143         0.0   \n",
       "15616     3283.0      70741     70741.0         0.0        148         0.0   \n",
       "14467        0.0      70593     70593.0         0.0        156         0.0   \n",
       "11223        0.0      70437     70437.0         0.0         21         0.0   \n",
       "\n",
       "                   created_at consent_cases consent_deaths  \n",
       "30418  10/30/2021 12:00:00 AM         Agree          Agree  \n",
       "12325  10/29/2021 12:00:00 AM         Agree          Agree  \n",
       "26503  10/28/2021 12:00:00 AM         Agree          Agree  \n",
       "11200  10/27/2021 12:00:00 AM         Agree          Agree  \n",
       "12386  10/25/2021 12:00:00 AM         Agree          Agree  \n",
       "25856  10/26/2021 12:00:00 AM         Agree          Agree  \n",
       "26319  10/24/2021 12:00:00 AM         Agree          Agree  \n",
       "15616  10/23/2021 12:00:00 AM         Agree          Agree  \n",
       "14467  10/22/2021 12:00:00 AM         Agree          Agree  \n",
       "11223  10/21/2021 12:00:00 AM         Agree          Agree  "
      ]
     },
     "execution_count": 12,
     "metadata": {},
     "output_type": "execute_result"
    }
   ],
   "source": [
    "# top 10 entries based on total cases.\n",
    "#covid_data.sort_values(['tot_cases'], ascending=False).head(10)\n",
    "clean_data.nlargest(n=10, columns=['conf_cases'], keep='all')"
   ]
  },
  {
   "cell_type": "code",
   "execution_count": 13,
   "metadata": {},
   "outputs": [
    {
     "data": {
      "text/plain": [
       "31"
      ]
     },
     "execution_count": 13,
     "metadata": {},
     "output_type": "execute_result"
    }
   ],
   "source": [
    "clean_data['state'].nunique()"
   ]
  },
  {
   "cell_type": "code",
   "execution_count": 14,
   "metadata": {},
   "outputs": [],
   "source": [
    "all_states=covid_data['state']"
   ]
  },
  {
   "cell_type": "code",
   "execution_count": 15,
   "metadata": {},
   "outputs": [
    {
     "data": {
      "text/plain": [
       "array(['AK', 'AR', 'AS', 'DC', 'FL', 'GU', 'HI', 'IA', 'IN', 'KS', 'LA',\n",
       "       'MD', 'MN', 'MO', 'ND', 'NH', 'NM', 'NV', 'NY', 'PA', 'PW', 'RI',\n",
       "       'SC', 'SD', 'TX', 'VI', 'VT', 'WA', 'WV'], dtype=object)"
      ]
     },
     "execution_count": 15,
     "metadata": {},
     "output_type": "execute_result"
    }
   ],
   "source": [
    "missing_states = np.setdiff1d(all_states,clean_data['state'])\n",
    "missing_states"
   ]
  },
  {
   "cell_type": "code",
   "execution_count": null,
   "metadata": {},
   "outputs": [],
   "source": [
    "fig = px.choropleth(covid_data.rename(columns={'conf_cases':'Covid Deaths'}), \n",
    "                    locations='state',\n",
    "                    locationmode = 'USA-states',\n",
    "                    color='Covid Deaths', \n",
    "                    scope='usa'\n",
    "                    \n",
    "                   )\n",
    "fig.update_layout(geo=dict(\n",
    "                  showframe = False,\n",
    "                  showcoastlines = False)\n",
    "                )\n",
    "fig.show(renderer='png', height=700, width=1400)"
   ]
  },
  {
   "cell_type": "code",
   "execution_count": null,
   "metadata": {},
   "outputs": [],
   "source": [
    "def ecdf(data):\n",
    "    '''Compute ECDF for a one-dimensional array of measurements.'''\n",
    "    #Number of data points: n\n",
    "    n = len(data)\n",
    "    \n",
    "    #x-data for the ECDF: x\n",
    "    x = np.sort(data)\n",
    "    \n",
    "    #y-data for the ECDF: y\n",
    "    y = np.arange(1,n+1)/n\n",
    "    \n",
    "    return x,y"
   ]
  },
  {
   "cell_type": "code",
   "execution_count": null,
   "metadata": {},
   "outputs": [],
   "source": [
    "#plotting the ecdf based on the confirmed cases.\n",
    "x, y = ecdf(covid_data['conf_cases'])\n",
    "fig, ax = plt.subplots()\n",
    "plt.plot(x,y, marker = '.',linestyle = 'none',markersize=2)\n",
    "plt.xlabel('Confirmed Cases')\n",
    "plt.ylabel('ECDF')\n",
    "plt.figure(figsize=(10, 10))\n",
    "plt.setp(ax.get_xticklabels(), rotation=30, horizontalalignment='right')\n",
    "plt.show()"
   ]
  },
  {
   "attachments": {},
   "cell_type": "markdown",
   "metadata": {},
   "source": [
    "##  Checking correlations in the data."
   ]
  },
  {
   "cell_type": "code",
   "execution_count": null,
   "metadata": {},
   "outputs": [],
   "source": [
    "corr = covid_data.corr()\n",
    "plt.figure(figsize=(20, 10))\n",
    "sns.heatmap(corr, annot=True)\n",
    "plt.plot()"
   ]
  },
  {
   "cell_type": "code",
   "execution_count": null,
   "metadata": {},
   "outputs": [],
   "source": []
  }
 ],
 "metadata": {
  "interpreter": {
   "hash": "aff4bfba7784ac82f8dbdca4cbb680590e8a014d47b25483364a692bff9c9e85"
  },
  "kernelspec": {
   "display_name": "Python 3.9.11 ('base')",
   "language": "python",
   "name": "python3"
  },
  "language_info": {
   "codemirror_mode": {
    "name": "ipython",
    "version": 3
   },
   "file_extension": ".py",
   "mimetype": "text/x-python",
   "name": "python",
   "nbconvert_exporter": "python",
   "pygments_lexer": "ipython3",
   "version": "3.9.11"
  }
 },
 "nbformat": 4,
 "nbformat_minor": 4
}
